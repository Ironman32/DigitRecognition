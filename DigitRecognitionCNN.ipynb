{
 "cells": [
  {
   "cell_type": "code",
   "execution_count": 116,
   "metadata": {},
   "outputs": [],
   "source": [
    "from keras.datasets import mnist\n",
    "from keras.models import Sequential\n",
    "from keras.layers.convolutional import Conv2D\n",
    "from keras.layers.convolutional import MaxPooling2D\n",
    "from keras.layers import Dense, Activation\n",
    "from keras.layers import Flatten\n",
    "from keras.layers import Dropout\n",
    "from keras.utils import np_utils\n",
    "import numpy as np"
   ]
  },
  {
   "cell_type": "code",
   "execution_count": 126,
   "metadata": {},
   "outputs": [],
   "source": [
    "# Loading the dataset\n",
    "(X_train, Y_train),(X_test, Y_test) = mnist.load_data()"
   ]
  },
  {
   "cell_type": "code",
   "execution_count": 118,
   "metadata": {},
   "outputs": [],
   "source": [
    "# Standardizing the dataset\n",
    "X_train = X_train/255\n",
    "X_test = X_test/255"
   ]
  },
  {
   "cell_type": "code",
   "execution_count": 119,
   "metadata": {},
   "outputs": [
    {
     "name": "stdout",
     "output_type": "stream",
     "text": [
      "Shape of X-Train (60000, 28, 28, 1)\n",
      "Shape of Y-Train (60000, 10)\n",
      "Shape of X-test (10000, 28, 28, 1)\n",
      "Shape of Y-Test (10000, 10)\n"
     ]
    }
   ],
   "source": [
    "# Reshaping the dataset\n",
    "X_train = X_train.reshape(X_train.shape[0], X_train.shape[1], X_train.shape[2], 1)\n",
    "X_test = X_test.reshape(X_test.shape[0], X_test.shape[1], X_test.shape[2], 1)\n",
    "\n",
    "Y_train = np_utils.to_categorical(Y_train)\n",
    "Y_test = np_utils.to_categorical(Y_test)\n",
    "print(\"Shape of X-Train\", X_train.shape)\n",
    "print(\"Shape of Y-Train\",Y_train.shape)\n",
    "print(\"Shape of X-test\", X_test.shape)\n",
    "print(\"Shape of Y-Test\",Y_test.shape)"
   ]
  },
  {
   "cell_type": "code",
   "execution_count": 120,
   "metadata": {},
   "outputs": [],
   "source": [
    "# Modelling the dataset\n",
    "def CNNModel():\n",
    "    model = Sequential()\n",
    "    model.add(Conv2D(30, 5, activation='relu'))\n",
    "    model.add(MaxPooling2D(pool_size=2))\n",
    "    model.add(Conv2D(15, 3, activation='relu'))\n",
    "    model.add(MaxPooling2D(pool_size=2))\n",
    "    model.add(Flatten())\n",
    "    model.add(Dense(128))\n",
    "    model.add(Dropout(0.25))\n",
    "    model.add(Activation('relu'))\n",
    "    model.add(Dense(50, activation='relu'))\n",
    "    model.add(Dense(10, activation='softmax'))\n",
    "    model.compile(loss = 'mean_squared_error', optimizer = 'adam', metrics = ['accuracy'])\n",
    "    return model"
   ]
  },
  {
   "cell_type": "code",
   "execution_count": 121,
   "metadata": {},
   "outputs": [],
   "source": [
    "model = CNNModel()"
   ]
  },
  {
   "cell_type": "code",
   "execution_count": 122,
   "metadata": {},
   "outputs": [
    {
     "name": "stdout",
     "output_type": "stream",
     "text": [
      "Epoch 1/15\n",
      "60000/60000 [==============================] - 83s 1ms/step - loss: 0.0186 - acc: 0.8695\n",
      "Epoch 2/15\n",
      "60000/60000 [==============================] - 81s 1ms/step - loss: 0.0052 - acc: 0.9665\n",
      "Epoch 3/15\n",
      "60000/60000 [==============================] - 77s 1ms/step - loss: 0.0039 - acc: 0.9747\n",
      "Epoch 4/15\n",
      "60000/60000 [==============================] - 81s 1ms/step - loss: 0.0031 - acc: 0.9799\n",
      "Epoch 5/15\n",
      "60000/60000 [==============================] - 79s 1ms/step - loss: 0.0027 - acc: 0.9831\n",
      "Epoch 6/15\n",
      "60000/60000 [==============================] - 80s 1ms/step - loss: 0.0023 - acc: 0.9858\n",
      "Epoch 7/15\n",
      "60000/60000 [==============================] - 84s 1ms/step - loss: 0.0023 - acc: 0.9857\n",
      "Epoch 8/15\n",
      "60000/60000 [==============================] - 93s 2ms/step - loss: 0.0020 - acc: 0.9873\n",
      "Epoch 9/15\n",
      "60000/60000 [==============================] - 89s 1ms/step - loss: 0.0019 - acc: 0.9880\n",
      "Epoch 10/15\n",
      "60000/60000 [==============================] - 83s 1ms/step - loss: 0.0017 - acc: 0.9890\n",
      "Epoch 11/15\n",
      "60000/60000 [==============================] - 86s 1ms/step - loss: 0.0017 - acc: 0.9897\n",
      "Epoch 12/15\n",
      "60000/60000 [==============================] - 104s 2ms/step - loss: 0.0014 - acc: 0.9910\n",
      "Epoch 13/15\n",
      "60000/60000 [==============================] - 98s 2ms/step - loss: 0.0014 - acc: 0.9918\n",
      "Epoch 14/15\n",
      "60000/60000 [==============================] - 91s 2ms/step - loss: 0.0014 - acc: 0.9913\n",
      "Epoch 15/15\n",
      "60000/60000 [==============================] - 103s 2ms/step - loss: 0.0012 - acc: 0.9926\n"
     ]
    },
    {
     "data": {
      "text/plain": [
       "<keras.callbacks.History at 0x23e8de18160>"
      ]
     },
     "execution_count": 122,
     "metadata": {},
     "output_type": "execute_result"
    }
   ],
   "source": [
    "# Training the data\n",
    "model.fit(X_train, Y_train, epochs=15, batch_size=200)"
   ]
  },
  {
   "cell_type": "code",
   "execution_count": 123,
   "metadata": {},
   "outputs": [
    {
     "name": "stdout",
     "output_type": "stream",
     "text": [
      "10000/10000 [==============================] - 11s 1ms/step\n",
      "60000/60000 [==============================] - 48s 804us/step\n"
     ]
    }
   ],
   "source": [
    "scores0=model.evaluate(X_test, Y_test)\n",
    "scores1=model.evaluate(X_train, Y_train)"
   ]
  },
  {
   "cell_type": "code",
   "execution_count": 124,
   "metadata": {},
   "outputs": [
    {
     "name": "stdout",
     "output_type": "stream",
     "text": [
      "Score on test data 99.15\n",
      "Score on train data 99.59833333333333\n"
     ]
    }
   ],
   "source": [
    "print(\"Score on test data\", scores0[1]*100)\n",
    "print(\"Score on train data\", scores1[1]*100)"
   ]
  },
  {
   "cell_type": "code",
   "execution_count": null,
   "metadata": {},
   "outputs": [],
   "source": []
  }
 ],
 "metadata": {
  "kernelspec": {
   "display_name": "Python 3",
   "language": "python",
   "name": "python3"
  },
  "language_info": {
   "codemirror_mode": {
    "name": "ipython",
    "version": 3
   },
   "file_extension": ".py",
   "mimetype": "text/x-python",
   "name": "python",
   "nbconvert_exporter": "python",
   "pygments_lexer": "ipython3",
   "version": "3.5.0"
  }
 },
 "nbformat": 4,
 "nbformat_minor": 2
}
