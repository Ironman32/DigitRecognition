{
 "cells": [
  {
   "cell_type": "code",
   "execution_count": 45,
   "metadata": {},
   "outputs": [
    {
     "data": {
      "text/plain": [
       "True"
      ]
     },
     "execution_count": 45,
     "metadata": {},
     "output_type": "execute_result"
    }
   ],
   "source": [
    "import cv2\n",
    "import numpy as np\n",
    "\n",
    "img = cv2.imread('pneu.png',0)\n",
    "\n",
    "\n",
    "# #----Rotating the images----------\n",
    "img = cv2.transpose(img)  \n",
    "img = cv2.flip(img, 0)\n",
    "\n",
    "cv2.imshow('image',img)\n",
    "cv2.waitKey(0)\n",
    "cv2.destroyAllWindows()\n",
    "s=(str)(10)\n",
    "cv2.imwrite(s+'pneu1.png', img)\n",
    "\n",
    "img = cv2.transpose(img)  \n",
    "img = cv2.flip(img, 0)\n",
    "\n",
    "cv2.imshow('image',img)\n",
    "cv2.waitKey(0)\n",
    "cv2.destroyAllWindows()\n",
    "cv2.imwrite('pneu2.png', img)\n",
    "\n",
    "# img = cv2.transpose(img)  \n",
    "# img = cv2.flip(img, 0)\n",
    "\n",
    "# cv2.imshow('image',img)\n",
    "# cv2.waitKey(0)\n",
    "# cv2.destroyAllWindows()\n",
    "# #---------------------------------\n",
    "\n",
    "# #-----Mirror Image----------------\n",
    "# rimg=img.copy()\n",
    "# fimg=img.copy()\n",
    "# rimg=cv2.flip(img,1)\n",
    "# fimg=cv2.flip(img,0)"
   ]
  },
  {
   "cell_type": "code",
   "execution_count": 49,
   "metadata": {},
   "outputs": [],
   "source": [
    "import cv2\n",
    "import numpy as np\n",
    "\n",
    "import os\n",
    "path='Images'\n",
    "for Folder in os.listdir(path):\n",
    "#         print(Folder)\n",
    "#         img = cv2.imread(os.path.join(path,imgname))\n",
    "        base=100\n",
    "        i=0\n",
    "        inpath = os.path.join(path, Folder)\n",
    "        for image in os.listdir(inpath):\n",
    "            another = os.path.join(inpath, image)\n",
    "            img = cv2.imread(another)\n",
    "            \n",
    "            img = cv2.transpose(img)\n",
    "            img = cv2.flip(img, 0)\n",
    "            ad=(str)(base+i)\n",
    "            cv2.imwrite(another+ad+'.png', img)\n",
    "            i+=1\n",
    "            \n",
    "            img = cv2.transpose(img)\n",
    "            img = cv2.flip(img, 0)\n",
    "            ad=(str)(base+i)\n",
    "            cv2.imwrite(another+ad+'.png', img)\n",
    "            i+=1\n",
    "        "
   ]
  },
  {
   "cell_type": "code",
   "execution_count": null,
   "metadata": {},
   "outputs": [],
   "source": []
  }
 ],
 "metadata": {
  "kernelspec": {
   "display_name": "Python 3",
   "language": "python",
   "name": "python3"
  },
  "language_info": {
   "codemirror_mode": {
    "name": "ipython",
    "version": 3
   },
   "file_extension": ".py",
   "mimetype": "text/x-python",
   "name": "python",
   "nbconvert_exporter": "python",
   "pygments_lexer": "ipython3",
   "version": "3.5.0"
  }
 },
 "nbformat": 4,
 "nbformat_minor": 2
}
