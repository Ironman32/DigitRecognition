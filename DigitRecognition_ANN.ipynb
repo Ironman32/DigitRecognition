{
 "cells": [
  {
   "cell_type": "code",
   "execution_count": 1,
   "metadata": {},
   "outputs": [],
   "source": [
    "import tensorflow"
   ]
  },
  {
   "cell_type": "code",
   "execution_count": 2,
   "metadata": {},
   "outputs": [
    {
     "name": "stderr",
     "output_type": "stream",
     "text": [
      "Using TensorFlow backend.\n"
     ]
    }
   ],
   "source": [
    "from keras.datasets import mnist"
   ]
  },
  {
   "cell_type": "code",
   "execution_count": 3,
   "metadata": {},
   "outputs": [],
   "source": [
    "import matplotlib.pyplot as plt"
   ]
  },
  {
   "cell_type": "code",
   "execution_count": 4,
   "metadata": {},
   "outputs": [],
   "source": [
    "import numpy as np\n",
    "(X_train, y_train), (X_test, y_test) = mnist.load_data()\n",
    "X_train = X_train.reshape(X_train.shape[0], -1).T\n",
    "X_test = X_test.reshape(X_test.shape[0], -1).T\n",
    "\n",
    "ytr = y_train.shape[0]\n",
    "yts = y_test.shape[0]\n",
    "\n",
    "Y_train = np.zeros((10, ytr))\n",
    "Y_test = np.zeros((10, yts))\n",
    "\n",
    "for i in range(ytr):\n",
    "    Y_train[y_train[i], i]=1\n",
    "for i in range(yts):\n",
    "    Y_test[y_test[i], i]=1\n",
    "\n",
    "X_train = X_train/255\n",
    "X_test = X_test/255"
   ]
  },
  {
   "cell_type": "code",
   "execution_count": 5,
   "metadata": {},
   "outputs": [],
   "source": [
    "def initialize(layer_dim):\n",
    "    dicti = {}\n",
    "    l = len(layer_dim)\n",
    "    for i in range(1, l):\n",
    "        dicti['W'+str(i)] = np.random.randn(layer_dim[i], layer_dim[i-1])*0.01\n",
    "        dicti['B'+str(i)] = np.zeros((layer_dim[i], 1))\n",
    "    return dicti"
   ]
  },
  {
   "cell_type": "code",
   "execution_count": 6,
   "metadata": {},
   "outputs": [],
   "source": [
    "def sigmoid(x):\n",
    "    return (1/(1+np.exp(-x)))"
   ]
  },
  {
   "cell_type": "code",
   "execution_count": 7,
   "metadata": {},
   "outputs": [],
   "source": [
    "def relu(x):\n",
    "    z = np.maximum(0, x)\n",
    "    return z"
   ]
  },
  {
   "cell_type": "code",
   "execution_count": 8,
   "metadata": {},
   "outputs": [],
   "source": [
    "def forward(X, param):\n",
    "    l = len(param)//2\n",
    "    answer = {}\n",
    "    A=X\n",
    "    for i in range(1, l):\n",
    "        answer['Z'+str(i)]=np.dot(param['W'+str(i)], A)+param['B'+str(i)]\n",
    "        answer['A'+str(i)]=relu(answer['Z'+str(i)])\n",
    "        A = answer['A'+str(i)]\n",
    "    answer['Z'+str(l)]=np.dot(param['W'+str(l)], A)+param['B'+str(l)]\n",
    "    answer['A'+str(l)]=softmax(answer['Z'+str(l)])\n",
    "    answer['A'+str(0)]=X\n",
    "    return answer"
   ]
  },
  {
   "cell_type": "code",
   "execution_count": 9,
   "metadata": {},
   "outputs": [],
   "source": [
    "def softmax(x):\n",
    "    y = np.exp(x)/np.sum(np.exp(x), axis=0)\n",
    "    return y"
   ]
  },
  {
   "cell_type": "code",
   "execution_count": 10,
   "metadata": {},
   "outputs": [],
   "source": [
    "def compute_cost(y, AL):\n",
    "    cost = ((np.sum(-y*np.log(AL)))/y.shape[1])\n",
    "    return cost"
   ]
  },
  {
   "cell_type": "code",
   "execution_count": 11,
   "metadata": {},
   "outputs": [],
   "source": [
    "def back_propag(param, answer):\n",
    "    grad = {}\n",
    "    l = len(param)//2\n",
    "    m=Y_train.shape[1]\n",
    "    grad['dZ'+str(l)]=answer['A'+str(l)]-Y_train\n",
    "    for i in reversed(range(l)):\n",
    "        grad['dW'+str(i+1)]=(np.dot(grad['dZ'+str(i+1)], answer['A'+str(i)].T))/m\n",
    "        grad['dB'+str(i+1)]=(np.sum(grad['dZ'+str(i+1)], axis=1, keepdims=True))/m\n",
    "        if(i==0):\n",
    "            break\n",
    "        grad['dA'+str(i)]=np.dot(param['W'+str(i+1)].T, grad['dZ'+str(i+1)])\n",
    "        grad['dZ'+str(i)]=grad['dA'+str(i)]*relu_der(answer['Z'+str(i)])\n",
    "    return grad"
   ]
  },
  {
   "cell_type": "code",
   "execution_count": 12,
   "metadata": {},
   "outputs": [],
   "source": [
    "def relu_der(X):\n",
    "    X=1*(X>0)\n",
    "    return X"
   ]
  },
  {
   "cell_type": "code",
   "execution_count": 13,
   "metadata": {},
   "outputs": [],
   "source": [
    "def update_par(param, grad, alpha):\n",
    "    l = len(param)//2\n",
    "    for i in range(1, l+1):\n",
    "        param['W'+str(i)]=param['W'+str(i)]-alpha*grad['dW'+str(i)]\n",
    "        param['B'+str(i)]=param['B'+str(i)]-alpha*grad['dB'+str(i)]\n",
    "    return param"
   ]
  },
  {
   "cell_type": "code",
   "execution_count": 20,
   "metadata": {},
   "outputs": [],
   "source": [
    "def nn_model(X, Y, layers, alpha, iterations):\n",
    "    parameters = initialize(layers)\n",
    "    costs = []\n",
    "    for i in range(iterations):\n",
    "        answer = forward(X, parameters)\n",
    "        grad = back_propag(parameters, answer)\n",
    "        #print(parameters['B2'].shape)\n",
    "        parameters = update_par(parameters, grad, alpha)\n",
    "        #print(parameters['B2'].shape)\n",
    "        cost = compute_cost(Y, answer['A'+str(len(layers)-1)])\n",
    "        #print(\"a\")\n",
    "        if i%50 == 0:\n",
    "            print(\"Cost after iteration %i: %f\" % (i,cost))\n",
    "            costs.append(cost)\n",
    "    plt.plot(np.squeeze(costs))\n",
    "    plt.ylabel('cost')\n",
    "    plt.xlabel('iterations (per tens)')\n",
    "    plt.title(\"Learning rate =\" + str(alpha))\n",
    "    plt.show()\n",
    "    return parameters"
   ]
  },
  {
   "cell_type": "code",
   "execution_count": 21,
   "metadata": {},
   "outputs": [
    {
     "name": "stdout",
     "output_type": "stream",
     "text": [
      "Cost after iteration 0: 2.302739\n",
      "Cost after iteration 50: 2.228625\n",
      "Cost after iteration 100: 1.316362\n",
      "Cost after iteration 150: 0.766885\n",
      "Cost after iteration 200: 0.586212\n",
      "Cost after iteration 250: 0.499514\n",
      "Cost after iteration 300: 0.448337\n",
      "Cost after iteration 350: 0.414541\n",
      "Cost after iteration 400: 0.390464\n",
      "Cost after iteration 450: 0.372285\n",
      "Cost after iteration 500: 0.357882\n",
      "Cost after iteration 550: 0.346034\n",
      "Cost after iteration 600: 0.336007\n",
      "Cost after iteration 650: 0.327309\n",
      "Cost after iteration 700: 0.319616\n",
      "Cost after iteration 750: 0.312717\n",
      "Cost after iteration 800: 0.306467\n",
      "Cost after iteration 850: 0.300732\n",
      "Cost after iteration 900: 0.295401\n",
      "Cost after iteration 950: 0.290435\n"
     ]
    },
    {
     "data": {
      "image/png": "[encoded data removed]",
      "text/plain": [
       "<Figure size 432x288 with 1 Axes>"
      ]
     },
     "metadata": {
      "needs_background": "light"
     },
     "output_type": "display_data"
    }
   ],
   "source": [
    "parameters = nn_model(X_train, Y_train,[28*28, 25, 10], 0.1, 1000)"
   ]
  },
  {
   "cell_type": "code",
   "execution_count": 22,
   "metadata": {},
   "outputs": [],
   "source": [
    "def predict(X, Y):\n",
    "    cache = forward(X, parameters)\n",
    "    l = len(parameters)//2\n",
    "    #use AL and Y to get the accuracy\n",
    "    AL = cache[\"A\"+str(l)]\n",
    "    AL = (AL == AL.max(axis=0))*1\n",
    "    m = AL.shape[1]\n",
    "    accuracy = (100/m)*np.sum(np.logical_and(AL,Y))\n",
    "    print(str(accuracy)+\"%\")\n",
    "\n",
    "    return accuracy"
   ]
  },
  {
   "cell_type": "code",
   "execution_count": 23,
   "metadata": {},
   "outputs": [
    {
     "name": "stdout",
     "output_type": "stream",
     "text": [
      "92.08%\n"
     ]
    },
    {
     "data": {
      "text/plain": [
       "92.08"
      ]
     },
     "execution_count": 23,
     "metadata": {},
     "output_type": "execute_result"
    }
   ],
   "source": [
    "predict(X_test, Y_test)"
   ]
  },
  {
   "cell_type": "code",
   "execution_count": 24,
   "metadata": {},
   "outputs": [
    {
     "name": "stdout",
     "output_type": "stream",
     "text": [
      "90.12833333333334%\n"
     ]
    },
    {
     "data": {
      "text/plain": [
       "90.12833333333334"
      ]
     },
     "execution_count": 24,
     "metadata": {},
     "output_type": "execute_result"
    }
   ],
   "source": [
    "predict(X_train, y_train)"
   ]
  },
  {
   "cell_type": "code",
   "execution_count": null,
   "metadata": {},
   "outputs": [],
   "source": []
  }
 ],
 "metadata": {
  "kernelspec": {
   "display_name": "Python 3",
   "language": "python",
   "name": "python3"
  },
  "language_info": {
   "codemirror_mode": {
    "name": "ipython",
    "version": 3
   },
   "file_extension": ".py",
   "mimetype": "text/x-python",
   "name": "python",
   "nbconvert_exporter": "python",
   "pygments_lexer": "ipython3",
   "version": "3.5.0"
  }
 },
 "nbformat": 4,
 "nbformat_minor": 2
}
